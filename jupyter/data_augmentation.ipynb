{
 "cells": [
  {
   "cell_type": "markdown",
   "metadata": {},
   "source": [
    "# PCA Augmentation"
   ]
  },
  {
   "cell_type": "code",
   "execution_count": 2,
   "metadata": {},
   "outputs": [],
   "source": [
    "import pandas as pd\n",
    "import numpy as np\n",
    "from sklearn.decomposition import PCA\n",
    "from sklearn.preprocessing import StandardScaler"
   ]
  },
  {
   "cell_type": "code",
   "execution_count": 3,
   "metadata": {},
   "outputs": [
    {
     "name": "stdout",
     "output_type": "stream",
     "text": [
      "Number of components needed to explain 99% of the variance: 37\n"
     ]
    }
   ],
   "source": [
    "# Load the dataset\n",
    "file_path = \"../data/combined_mutation_CNV.csv\"\n",
    "data = pd.read_csv(file_path)\n",
    "\n",
    "# Separate features and target variable\n",
    "X = data.drop(columns=[\"Subtype\", \"Sample\"])\n",
    "y = data[\"Subtype\"]\n",
    "\n",
    "# Standardize the features\n",
    "scaler = StandardScaler()\n",
    "X_scaled = scaler.fit_transform(X)\n",
    "\n",
    "# Apply PCA to reduce dimensionality\n",
    "pca = PCA()  # Adjust the number of components as needed\n",
    "pca.fit(X_scaled)\n",
    "# Calculate explained variance ratio\n",
    "explained_variance_ratio = pca.explained_variance_ratio_\n",
    "cumulative_explained_variance = np.cumsum(explained_variance_ratio)\n",
    "\n",
    "# Find the number of components needed to explain 90% variance\n",
    "n_components_90 = np.argmax(cumulative_explained_variance >= 0.99) + 1\n",
    "# Print the number of components needed to explain 90% of the variance\n",
    "print(f\"Number of components needed to explain 99% of the variance: {n_components_90}\")\n",
    "\n",
    "# Apply PCA to reduce dimensionality\n",
    "pca = PCA(n_components=n_components_90)  # Adjust the number of components as needed\n",
    "X_pca = pca.fit_transform(X_scaled)\n",
    "\n",
    "# Generate synthetic samples by perturbing the principal components\n",
    "def generate_synthetic_samples(X_pca, num_samples=1000):\n",
    "    synthetic_samples = []\n",
    "    for _ in range(num_samples):\n",
    "        sample = np.copy(X_pca[np.random.randint(0, X_pca.shape[0])])\n",
    "        perturbation = np.random.normal(\n",
    "            0, 0.1, sample.shape\n",
    "        )  # Adjust the noise level as needed\n",
    "        synthetic_sample = sample + perturbation\n",
    "        synthetic_samples.append(synthetic_sample)\n",
    "    return np.array(synthetic_samples)\n",
    "\n",
    "\n",
    "synthetic_samples_pca = generate_synthetic_samples(X_pca)\n",
    "\n",
    "# Inverse transform the synthetic samples back to the original feature space\n",
    "synthetic_samples = scaler.inverse_transform(\n",
    "    pca.inverse_transform(synthetic_samples_pca)\n",
    ")\n",
    "\n",
    "# Create a DataFrame for the synthetic samples\n",
    "synthetic_df = pd.DataFrame(synthetic_samples, columns=X.columns)\n",
    "synthetic_df[\"Subtype\"] = np.random.choice(\n",
    "    y.unique(), size=synthetic_df.shape[0]\n",
    ")  # Assign random subtypes\n",
    "\n",
    "# Combine the synthetic samples with the original dataset\n",
    "augmented_data = pd.concat([data, synthetic_df], ignore_index=True)\n",
    "\n",
    "# Save the augmented dataset to a new CSV file\n",
    "augmented_data.to_csv(\"../data/augmented_combined_mutation_CNV.csv\", index=False)\n"
   ]
  },
  {
   "cell_type": "markdown",
   "metadata": {},
   "source": [
    "# SMOTE Augmentation"
   ]
  },
  {
   "cell_type": "code",
   "execution_count": null,
   "metadata": {},
   "outputs": [],
   "source": [
    "import pandas as pd\n",
    "from imblearn.over_sampling import SMOTE"
   ]
  },
  {
   "cell_type": "code",
   "execution_count": null,
   "metadata": {},
   "outputs": [],
   "source": [
    "# Load your data\n",
    "file_path = \"../data/combined_mutation_CNV.csv\"\n",
    "data = pd.read_csv(file_path)\n",
    "data = data.drop(columns=[\"Sample\"])\n",
    "\n",
    "# SMOTE Function to generate additional data\n",
    "def apply_smote(data, target_column, n_samples=50):\n",
    "    smote = SMOTE(sampling_strategy={data[target_column].value_counts().idxmin(): n_samples}, random_state=42)\n",
    "    X = data.drop(columns=[target_column])\n",
    "    y = data[target_column]\n",
    "    X_res, y_res = smote.fit_resample(X, y)\n",
    "    return pd.concat([X_res, y_res], axis=1)\n",
    "\n",
    "# Apply SMOTE to generate 50 additional samples (assuming 'Subtype' is the target column)\n",
    "# Here we are creating additional samples only for the minority class.\n",
    "balanced_data = apply_smote(augmented_data, 'Subtype', n_samples=50)\n",
    "balanced_data = apply_smote(balanced_data, 'Subtype', n_samples=50)\n",
    "\n",
    "balanced_data\n"
   ]
  },
  {
   "cell_type": "code",
   "execution_count": null,
   "metadata": {},
   "outputs": [],
   "source": []
  }
 ],
 "metadata": {
  "kernelspec": {
   "display_name": "env",
   "language": "python",
   "name": "python3"
  },
  "language_info": {
   "codemirror_mode": {
    "name": "ipython",
    "version": 3
   },
   "file_extension": ".py",
   "mimetype": "text/x-python",
   "name": "python",
   "nbconvert_exporter": "python",
   "pygments_lexer": "ipython3",
   "version": "3.10.8"
  }
 },
 "nbformat": 4,
 "nbformat_minor": 2
}
